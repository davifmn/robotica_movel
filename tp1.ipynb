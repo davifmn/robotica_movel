{
 "cells": [
  {
   "cell_type": "markdown",
   "id": "54e8fc76-43dd-4395-b43e-ba47bcb27c59",
   "metadata": {},
   "source": [
    "# Cena com Robô Pioneer 3DX, Móveis e Pessoas: Sistemas de Coordenadas\n",
    "\n",
    "### Alunos: Alexis Duarte Guimarães Mariz e Davi Fraga Marques Neves\n",
    "\n",
    "Este notebook cria uma cena simulada com um robô móvel Pioneer 3DX, três móveis e duas pessoas usando a Nova API Remota do CoppeliaSim (ZeroMQ, via coppeliasim_zmqremoteapi_client). Também define sistemas de coordenadas para cada item e mostra algumas transformações entre eles.\n",
    "\n",
    "\n",
    "\n",
    "\n"
   ]
  },
  {
   "cell_type": "code",
   "execution_count": 79,
   "id": "113a4b67",
   "metadata": {},
   "outputs": [],
   "source": [
    "from coppeliasim_zmqremoteapi_client import RemoteAPIClient\n",
    "import os, math\n",
    "import numpy as np\n",
    "\n",
    "client = RemoteAPIClient()\n",
    "sim = client.require('sim')\n",
    "\n",
    "# Garante que a simulação esteja parada\n",
    "sim.stopSimulation()\n",
    "\n",
    "# Limpa a cena atual\n",
    "sim.closeScene()\n",
    "sim.loadScene('')  # cena vazia\n",
    "\n",
    "# Caminhos dos modelos\n",
    "#coppelia_base_dir = r'/Users/davifragamarques/Downloads/coppeliaSim 2.app/Contents/Resources'\n",
    "coppelia_base_dir = r'/home/alexis/apps/CoppeliaSim_Edu_V4_10_0_rev0_Ubuntu22_04'\n",
    "\n",
    "p3dx_path     = os.path.join(coppelia_base_dir, \"models/robots/mobile/pioneer p3dx.ttm\")\n",
    "sitting_path  = os.path.join(coppelia_base_dir, \"models/people/Sitting Bill.ttm\")\n",
    "standing_path = os.path.join(coppelia_base_dir, \"models/people/Standing Bill.ttm\")\n",
    "table_path    = os.path.join(coppelia_base_dir, \"models/furniture/tables/diningTable.ttm\")\n",
    "chair_path    = os.path.join(coppelia_base_dir, \"models/furniture/chairs/dining chair.ttm\")\n",
    "laptop_path   = os.path.join(coppelia_base_dir, \"models/office items/laptop.ttm\")\n",
    "cupboard_path = os.path.join(coppelia_base_dir, \"models/furniture/shelves-cupboards-racks/deep cupboard.ttm\")\n",
    "rack_path     = os.path.join(coppelia_base_dir, \"models/furniture/shelves-cupboards-racks/rack.ttm\")\n",
    "plant_path    = os.path.join(coppelia_base_dir, \"models/furniture/plants/indoorPlant.ttm\")\n",
    "asti_path     = os.path.join(coppelia_base_dir, \"models/robots/mobile/Asti.ttm\")\n",
    "\n",
    "# carregar modelos\n",
    "p3dx_h     = sim.loadModel(p3dx_path)\n",
    "table_h    = sim.loadModel(table_path)\n",
    "chair1_h    = sim.loadModel(chair_path)\n",
    "chair2_h    = sim.loadModel(chair_path)\n",
    "sitting_h  = sim.loadModel(sitting_path)\n",
    "standing_h = sim.loadModel(standing_path)\n",
    "laptop_h   = sim.loadModel(laptop_path)\n",
    "cupboard_h = sim.loadModel(cupboard_path)\n",
    "rack_h     = sim.loadModel(rack_path)\n",
    "plant_h    = sim.loadModel(plant_path)\n",
    "asti_h     = sim.loadModel(asti_path)\n",
    "\n",
    "#posições dos objetos\n",
    "chair1_xy = (2.25, 1.9, 0.45)\n",
    "chair1_abg = (0.0, 0.0, -90.0)\n",
    "\n",
    "table_xy = (1.30, 2, 0.375)\n",
    "table_abg = (0.0, -90.0, 0.0)\n",
    "\n",
    "char2_xy = (0.275, 1.9,0.45) #Cadeira do Bill sentado\n",
    "char2_abg = (0.0, 0.0, 90.0)\n",
    "\n",
    "sitting_bill_xy = (0.675, 1.9, 0.0)\n",
    "sitting_bill_abg = (0.0, 0.0, 0.0)\n",
    "\n",
    "standing_bill_xy = (1.45, 1.125, 0.0)\n",
    "standing_bill_abg = (0.0, 0.0, 130.0)\n",
    "\n",
    "laptop_xy = (0.75, 1.95, 0.82739)\n",
    "laptop_abg = (0.0, 50.0, -180.0)\n",
    "\n",
    "p3dx_xy = (-2.0, -2.0, 0.13879)\n",
    "p3dx_abg = (0.0, 0.0, 0.0)\n",
    "\n",
    "cupboard_xy = (-2.0, 1.8, 1.0)\n",
    "cupboard_abg = (0.0, 0.0, -180.0)\n",
    "\n",
    "rack_xy = (-2.0, 0.4, 0.85)\n",
    "rack_abg = (0.0, 0.0, 0.0)\n",
    "\n",
    "plant_xy = (2.25, -2.25, 0.165)\n",
    "plant_abg = (0.0, 0.0, 0.0)\n",
    "\n",
    "asti_xy = (0.0, 0.0, 0.80597)\n",
    "asti_abg = (180.0, 0.0, -130.0)\n",
    "\n",
    "# Mesa\n",
    "sim.setObjectPosition(table_h, -1, [table_xy[0], table_xy[1], table_xy[2]])\n",
    "sim.setObjectOrientation(table_h, -1, [math.radians(table_abg[0]),math.radians(table_abg[1]),math.radians(table_abg[2])])\n",
    "\n",
    "# Cadeira 1\n",
    "sim.setObjectPosition(chair1_h, -1, [chair1_xy[0], chair1_xy[1], chair1_xy[2]])\n",
    "sim.setObjectOrientation(chair1_h, -1, [math.radians(chair1_abg[0]),math.radians(chair1_abg[1]),math.radians(chair1_abg[2])])\n",
    "\n",
    "# Cadeira 2 (Bill sentado)\n",
    "sim.setObjectPosition(chair2_h, -1, [char2_xy[0], char2_xy[1], char2_xy[2]])\n",
    "sim.setObjectOrientation(chair2_h, -1, [math.radians(char2_abg[0]),math.radians(char2_abg[1]),math.radians(char2_abg[2])])\n",
    "\n",
    "# Bill sentado\n",
    "sim.setObjectPosition(sitting_h, -1, [sitting_bill_xy[0], sitting_bill_xy[1], sitting_bill_xy[2]])\n",
    "sim.setObjectOrientation(sitting_h, -1, [math.radians(sitting_bill_abg[0]),math.radians(sitting_bill_abg[1]),math.radians(sitting_bill_abg[2])])\n",
    "\n",
    "# Bill de pé\n",
    "sim.setObjectPosition(standing_h, -1, [standing_bill_xy[0], standing_bill_xy[1], standing_bill_xy[2]])\n",
    "sim.setObjectOrientation(standing_h, -1, [math.radians(standing_bill_abg[0]),math.radians(standing_bill_abg[1]),math.radians(standing_bill_abg[2])])\n",
    "\n",
    "# Robô Pioneer 3DX\n",
    "sim.setObjectPosition(p3dx_h, -1, [p3dx_xy[0], p3dx_xy[1], p3dx_xy[2]])\n",
    "sim.setObjectOrientation(p3dx_h, -1, [math.radians(p3dx_abg[0]),math.radians(p3dx_abg[1]),math.radians(p3dx_abg[2])])\n",
    "\n",
    "# Laptop\n",
    "sim.setObjectPosition(laptop_h, -1, [laptop_xy[0], laptop_xy[1], laptop_xy[2]])\n",
    "sim.setObjectOrientation(laptop_h, -1, [math.radians(laptop_abg[0]),math.radians(laptop_abg[1]),math.radians(laptop_abg[2])])\n",
    "\n",
    "# Cupboard\n",
    "sim.setObjectPosition(cupboard_h, -1, [cupboard_xy[0], cupboard_xy[1], cupboard_xy[2]])\n",
    "sim.setObjectOrientation(cupboard_h, -1, [math.radians(cupboard_abg[0]),math.radians(cupboard_abg[1]),math.radians(cupboard_abg[2])])\n",
    "\n",
    "# Rack\n",
    "sim.setObjectPosition(rack_h, -1, [rack_xy[0], rack_xy[1], rack_xy[2]])\n",
    "sim.setObjectOrientation(rack_h, -1, [math.radians(rack_abg[0]),math.radians(rack_abg[1]),math.radians(rack_abg[2])])\n",
    "\n",
    "# Plant\n",
    "sim.setObjectPosition(plant_h, -1, [plant_xy[0], plant_xy[1], plant_xy[2]])\n",
    "sim.setObjectOrientation(plant_h, -1, [math.radians(plant_abg[0]),math.radians(plant_abg[1]),math.radians(plant_abg[2])])\n",
    "\n",
    "# Robô Asti\n",
    "sim.setObjectPosition(asti_h, -1, [asti_xy[0], asti_xy[1], asti_xy[2]])\n",
    "sim.setObjectOrientation(asti_h, -1, [math.radians(asti_abg[0]),math.radians(asti_abg[1]),math.radians(asti_abg[2])])\n"
   ]
  },
  {
   "cell_type": "code",
   "execution_count": 2,
   "id": "322fc51e-dad6-40e9-ba4b-8187778f8b9e",
   "metadata": {},
   "outputs": [
    {
     "ename": "Exception",
     "evalue": "1254: in sim._getObject: object does not exist, or alias/path is ill formatted.",
     "output_type": "error",
     "traceback": [
      "\u001b[0;31m---------------------------------------------------------------------------\u001b[0m",
      "\u001b[0;31mException\u001b[0m                                 Traceback (most recent call last)",
      "Cell \u001b[0;32mIn[2], line 6\u001b[0m\n\u001b[1;32m      3\u001b[0m     \u001b[38;5;28;01mreturn\u001b[39;00m sim\u001b[38;5;241m.\u001b[39mgetObject(name)\n\u001b[1;32m      5\u001b[0m \u001b[38;5;66;03m# Handles dos objetos\u001b[39;00m\n\u001b[0;32m----> 6\u001b[0m h_pioneer \u001b[38;5;241m=\u001b[39m \u001b[43mget_handle\u001b[49m\u001b[43m(\u001b[49m\u001b[38;5;124;43m'\u001b[39;49m\u001b[38;5;124;43m/Pioneer_p3dx\u001b[39;49m\u001b[38;5;124;43m'\u001b[39;49m\u001b[43m)\u001b[49m\n\u001b[1;32m      7\u001b[0m h_movel1 \u001b[38;5;241m=\u001b[39m get_handle(\u001b[38;5;124m'\u001b[39m\u001b[38;5;124m/Cuboid\u001b[39m\u001b[38;5;124m'\u001b[39m)\n\u001b[1;32m      8\u001b[0m h_movel2 \u001b[38;5;241m=\u001b[39m get_handle(\u001b[38;5;124m'\u001b[39m\u001b[38;5;124m/Cuboid#0\u001b[39m\u001b[38;5;124m'\u001b[39m)\n",
      "Cell \u001b[0;32mIn[2], line 3\u001b[0m, in \u001b[0;36mget_handle\u001b[0;34m(name)\u001b[0m\n\u001b[1;32m      2\u001b[0m \u001b[38;5;28;01mdef\u001b[39;00m \u001b[38;5;21mget_handle\u001b[39m(name):\n\u001b[0;32m----> 3\u001b[0m     \u001b[38;5;28;01mreturn\u001b[39;00m \u001b[43msim\u001b[49m\u001b[38;5;241;43m.\u001b[39;49m\u001b[43mgetObject\u001b[49m\u001b[43m(\u001b[49m\u001b[43mname\u001b[49m\u001b[43m)\u001b[49m\n",
      "File \u001b[0;32m~/.local/lib/python3.12/site-packages/coppeliasim_zmqremoteapi_client/__init__.py:174\u001b[0m, in \u001b[0;36mRemoteAPIClient.getObject.<locals>.<lambda>\u001b[0;34m(func, *a)\u001b[0m\n\u001b[1;32m    172\u001b[0m     \u001b[38;5;28;01mraise\u001b[39;00m \u001b[38;5;167;01mValueError\u001b[39;00m(\u001b[38;5;124m'\u001b[39m\u001b[38;5;124mfound nondict\u001b[39m\u001b[38;5;124m'\u001b[39m)\n\u001b[1;32m    173\u001b[0m \u001b[38;5;28;01mif\u001b[39;00m \u001b[38;5;28mlen\u001b[39m(v) \u001b[38;5;241m==\u001b[39m \u001b[38;5;241m1\u001b[39m \u001b[38;5;129;01mand\u001b[39;00m \u001b[38;5;124m'\u001b[39m\u001b[38;5;124mfunc\u001b[39m\u001b[38;5;124m'\u001b[39m \u001b[38;5;129;01min\u001b[39;00m v:\n\u001b[0;32m--> 174\u001b[0m     \u001b[38;5;28msetattr\u001b[39m(ret, k, \u001b[38;5;28;01mlambda\u001b[39;00m \u001b[38;5;241m*\u001b[39ma, func\u001b[38;5;241m=\u001b[39m\u001b[38;5;124mf\u001b[39m\u001b[38;5;124m'\u001b[39m\u001b[38;5;132;01m{\u001b[39;00mname\u001b[38;5;132;01m}\u001b[39;00m\u001b[38;5;124m.\u001b[39m\u001b[38;5;132;01m{\u001b[39;00mk\u001b[38;5;132;01m}\u001b[39;00m\u001b[38;5;124m'\u001b[39m: \u001b[38;5;28;43mself\u001b[39;49m\u001b[38;5;241;43m.\u001b[39;49m\u001b[43mcall\u001b[49m\u001b[43m(\u001b[49m\u001b[43mfunc\u001b[49m\u001b[43m,\u001b[49m\u001b[43m \u001b[49m\u001b[43ma\u001b[49m\u001b[43m)\u001b[49m)\n\u001b[1;32m    175\u001b[0m \u001b[38;5;28;01melif\u001b[39;00m \u001b[38;5;28mlen\u001b[39m(v) \u001b[38;5;241m==\u001b[39m \u001b[38;5;241m1\u001b[39m \u001b[38;5;129;01mand\u001b[39;00m \u001b[38;5;124m'\u001b[39m\u001b[38;5;124mconst\u001b[39m\u001b[38;5;124m'\u001b[39m \u001b[38;5;129;01min\u001b[39;00m v:\n\u001b[1;32m    176\u001b[0m     \u001b[38;5;28msetattr\u001b[39m(ret, k, v[\u001b[38;5;124m'\u001b[39m\u001b[38;5;124mconst\u001b[39m\u001b[38;5;124m'\u001b[39m])\n",
      "File \u001b[0;32m~/.local/lib/python3.12/site-packages/coppeliasim_zmqremoteapi_client/__init__.py:162\u001b[0m, in \u001b[0;36mRemoteAPIClient.call\u001b[0;34m(self, func, args)\u001b[0m\n\u001b[1;32m    160\u001b[0m     reply \u001b[38;5;241m=\u001b[39m \u001b[38;5;28mself\u001b[39m\u001b[38;5;241m.\u001b[39m_recv()\n\u001b[1;32m    161\u001b[0m \u001b[38;5;28;01mif\u001b[39;00m \u001b[38;5;124m'\u001b[39m\u001b[38;5;124merr\u001b[39m\u001b[38;5;124m'\u001b[39m \u001b[38;5;129;01min\u001b[39;00m reply:\n\u001b[0;32m--> 162\u001b[0m     \u001b[38;5;28;01mraise\u001b[39;00m \u001b[38;5;167;01mException\u001b[39;00m(reply\u001b[38;5;241m.\u001b[39mget(\u001b[38;5;124m'\u001b[39m\u001b[38;5;124merr\u001b[39m\u001b[38;5;124m'\u001b[39m))  \u001b[38;5;66;03m# __EXCEPTION__\u001b[39;00m\n\u001b[1;32m    163\u001b[0m \u001b[38;5;28;01mreturn\u001b[39;00m \u001b[38;5;28mself\u001b[39m\u001b[38;5;241m.\u001b[39m_process_response(reply)\n",
      "\u001b[0;31mException\u001b[0m: 1254: in sim._getObject: object does not exist, or alias/path is ill formatted."
     ]
    }
   ],
   "source": [
    "# Função para obter handle de um objeto (Nova API)\n",
    "def get_handle(name):\n",
    "    return sim.getObject(name)\n",
    "\n",
    "# Handles dos objetos\n",
    "h_pioneer = get_handle('/Pioneer_p3dx')\n",
    "h_movel1 = get_handle('/Cuboid')\n",
    "h_movel2 = get_handle('/Cuboid#0')\n",
    "h_movel3 = get_handle('/Cuboid#1')\n",
    "h_pessoa1 = get_handle('/Bill')\n",
    "h_pessoa2 = get_handle('/Bill#0')"
   ]
  },
  {
   "cell_type": "code",
   "execution_count": null,
   "id": "43c1b67d-012c-4a6c-851f-58bccd15eea1",
   "metadata": {},
   "outputs": [],
   "source": [
    "# Criação de um dummy para cada frame\n",
    "def criar_dummy(nome, cor=[1,0,0]):\n",
    "    dummy = sim.createDummy(0.05)\n",
    "    sim.setObjectName(dummy, nome)\n",
    "    sim.setShapeColor(dummy, None, sim.colorcomponent_ambient_diffuse, cor)\n",
    "    return dummy\n",
    "\n",
    "# Associando dummies aos objetos\n",
    "frames = {}\n",
    "for (name, handle, cor) in [\n",
    "    ('frame_pioneer', h_pioneer, [1,0,0]),\n",
    "    ('frame_movel1', h_movel1, [0,1,0]),\n",
    "    ('frame_movel2', h_movel2, [0,0,1]),\n",
    "    ('frame_movel3', h_movel3, [1,1,0]),\n",
    "    ('frame_pessoa1', h_pessoa1, [1,0,1]),\n",
    "    ('frame_pessoa2', h_pessoa2, [0,1,1]),\n",
    "]:\n",
    "    dummy = criar_dummy(name, cor)\n",
    "    sim.setObjectParent(dummy, handle, True)\n",
    "    frames[name] = dummy"
   ]
  },
  {
   "cell_type": "code",
   "execution_count": null,
   "id": "9b3e5c9c-77d2-4561-863d-8aa30a79246b",
   "metadata": {},
   "outputs": [],
   "source": [
    "# Função para obter posição e orientação absoluta de um frame (Nova API)\n",
    "def get_pose(handle):\n",
    "    pos = sim.getObjectPosition(handle, -1)\n",
    "    euler = sim.getObjectOrientation(handle, -1)\n",
    "    return np.array(pos), np.array(euler)\n",
    "\n",
    "for name, dummy in frames.items():\n",
    "    pos, euler = get_pose(dummy)\n",
    "    print(f'{name}: posição = {pos}, orientação (Euler) = {euler}')"
   ]
  },
  {
   "cell_type": "code",
   "execution_count": null,
   "id": "2ab69fd8-08fd-4129-915a-60e7dce0d2c0",
   "metadata": {},
   "outputs": [],
   "source": [
    "# Exemplo: transformação homogênea do frame do Pioneer para o frame do móvel 1 \n",
    "def get_transform(parent, child):\n",
    "    matrix = sim.getObjectMatrix(child, parent)\n",
    "    matrix = np.array(matrix).reshape((3,4))\n",
    "    homog = np.vstack([matrix, [0,0,0,1]])\n",
    "    return homog\n",
    "\n",
    "T_pioneer_movel1 = get_transform(frames['frame_pioneer'], frames['frame_movel1'])\n",
    "print('Transformação homogênea Pioneer->Movel1:')\n",
    "print(T_pioneer_movel1)"
   ]
  },
  {
   "cell_type": "markdown",
   "id": "ea9c56f8-85c9-4147-a368-4659815b159b",
   "metadata": {},
   "source": [
    "### transformação homogênea"
   ]
  },
  {
   "cell_type": "code",
   "execution_count": null,
   "id": "43e374f7-1f05-46d7-9321-a8ea638832dc",
   "metadata": {},
   "outputs": [],
   "source": [
    "def homog_2d(x, y, theta):\n",
    "    \"\"\"\n",
    "    Retorna matriz homogênea 3x3 para pose 2D.\n",
    "    \"\"\"\n",
    "    c, s = np.cos(theta), np.sin(theta)\n",
    "    return np.array([[c, -s, x],\n",
    "                     [s,  c, y],\n",
    "                     [0,  0, 1]])"
   ]
  },
  {
   "cell_type": "markdown",
   "id": "973ec6f5-5da8-48af-94a7-ed4c0cbb90a5",
   "metadata": {},
   "source": [
    "### pos global dos objetos"
   ]
  },
  {
   "cell_type": "code",
   "execution_count": null,
   "id": "cfba9378-7bbb-48b8-bd75-65730c51c75b",
   "metadata": {},
   "outputs": [],
   "source": [
    "# Suponha que handles e nomes estejam definidos (veja células anteriores)\n",
    "def get_pose_2d(handle):\n",
    "    pos = sim.getObjectPosition(handle, -1)\n",
    "    euler = sim.getObjectOrientation(handle, -1)\n",
    "    return np.array([pos[0], pos[1], euler[2]])\n",
    "\n",
    "poses_global = {}\n",
    "names_handles = {\n",
    "    'robô': h_pioneer,\n",
    "    'móvel 1': h_movel1,\n",
    "    'móvel 2': h_movel2,\n",
    "    'móvel 3': h_movel3,\n",
    "    'pessoa 1': h_pessoa1,\n",
    "    'pessoa 2': h_pessoa2\n",
    "}\n",
    "for nome, handle in names_handles.items():\n",
    "    poses_global[nome] = get_pose_2d(handle)\n",
    "    \n",
    "print(poses_global)"
   ]
  },
  {
   "cell_type": "markdown",
   "id": "2b78025d-9e72-4899-b33a-4c7c0b0f0394",
   "metadata": {},
   "source": [
    "### Matrizes homogêneas de cada elemento no frame do robô"
   ]
  },
  {
   "cell_type": "code",
   "execution_count": null,
   "id": "cb24b2fd-c7d2-442f-bd6f-00eaf89bcfae",
   "metadata": {},
   "outputs": [],
   "source": [
    "# Pose global do robô\n",
    "q = poses_global['robô'] # [x, y, theta]\n",
    "T_gr = homog_2d(q[0], q[1], q[2])    # Global->Robô\n",
    "T_rg = np.linalg.inv(T_gr)           # Robô->Global (inversa)\n",
    "\n",
    "# Para cada elemento, calcule a matriz homogênea no frame do robô\n",
    "T_robos = {}\n",
    "for nome, pose in poses_global.items():\n",
    "    if nome == 'robô':\n",
    "        continue\n",
    "    T_gi = homog_2d(pose[0], pose[1], pose[2])   # Global->item\n",
    "    T_ri = np.dot(T_rg, T_gi)                    # Robô->item = (Robô->Global)^-1 * (Global->item)\n",
    "    T_robos[nome] = T_ri\n",
    "\n",
    "for nome, T in T_robos.items():\n",
    "    print(f'Transformação homogênea {nome} no frame do robô:\\n', T)"
   ]
  },
  {
   "cell_type": "markdown",
   "id": "7cbadea5-4e0a-4e8e-81ac-ec33580af079",
   "metadata": {},
   "source": [
    "## Plotar os referenciais e os vetores entre eles"
   ]
  },
  {
   "cell_type": "code",
   "execution_count": null,
   "id": "64e7e70c-043b-4c51-a4e4-ed7809404be4",
   "metadata": {},
   "outputs": [],
   "source": [
    "import matplotlib.pyplot as plt\n",
    "\n",
    "def plot_frame(T, label, color='k'):\n",
    "    origin = T[:2, 2]\n",
    "    x_axis = origin + T[:2, 0]*0.2\n",
    "    y_axis = origin + T[:2, 1]*0.2\n",
    "    plt.plot([origin[0], x_axis[0]], [origin[1], x_axis[1]], color+'-', lw=2)\n",
    "    plt.plot([origin[0], y_axis[0]], [origin[1], y_axis[1]], color+'--', lw=2)\n",
    "    plt.text(origin[0], origin[1], label)\n",
    "\n",
    "# Plote o frame do robô na origem\n",
    "plt.figure(figsize=(8,8))\n",
    "plot_frame(np.eye(3), 'robô', 'r')\n",
    "\n",
    "cores = ['g', 'b', 'm', 'c', 'y']\n",
    "for i, (nome, T) in enumerate(T_robos.items()):\n",
    "    plot_frame(T, nome, cores[i % len(cores)])\n",
    "    plt.arrow(0, 0, T[0,2], T[1,2], head_width=0.05, head_length=0.1, fc=cores[i % len(cores)], ec=cores[i % len(cores)], alpha=0.5)\n",
    "\n",
    "plt.xlabel('x (robô)')\n",
    "plt.ylabel('y (robô)')\n",
    "plt.axis('equal')\n",
    "plt.grid()\n",
    "plt.title('Referenciais dos objetos no frame do robô')\n",
    "plt.show()\n"
   ]
  },
  {
   "cell_type": "markdown",
   "id": "a152c183-582e-4c44-aa51-61c73afcae8b",
   "metadata": {},
   "source": [
    "### exercicio 4: colocar o robo em pos diferentes"
   ]
  },
  {
   "cell_type": "code",
   "execution_count": null,
   "id": "22c498c6-ae49-490f-a2d7-af4bacf55f5d",
   "metadata": {},
   "outputs": [],
   "source": [
    "# Lista de poses do robô: [x, y, theta]\n",
    "poses_robo = [\n",
    "    [0.0, 0.0, 0.0],          # Posição original (de frente)\n",
    "    [1.0, 0.0, np.pi/2],      # À direita, olhando para cima\n",
    "    [0.0, -1.0, np.pi],       # Abaixo, olhando para trás\n",
    "    [-1.0, 1.0, -np.pi/2]     # Esquerda cima, olhando para baixo\n",
    "]"
   ]
  },
  {
   "cell_type": "markdown",
   "id": "84cee2de-82cf-4199-a005-4340f23de5f9",
   "metadata": {},
   "source": [
    "### Função para recalcular e plotar para cada pose"
   ]
  },
  {
   "cell_type": "code",
   "execution_count": null,
   "id": "eaf6836c-ed29-4e4c-bc82-bd56e344e3f5",
   "metadata": {},
   "outputs": [],
   "source": [
    "def plot_cena_para_pose_robo(q, poses_global, nomes_ordenados=None):\n",
    "    T_gr = homog_2d(q[0], q[1], q[2])  # Global->Robô\n",
    "    T_rg = np.linalg.inv(T_gr)         # Robô->Global (inversa)\n",
    "    T_robos = {}\n",
    "    for nome, pose in poses_global.items():\n",
    "        if nome == 'robô':\n",
    "            continue\n",
    "        T_gi = homog_2d(pose[0], pose[1], pose[2])   # Global->item\n",
    "        T_ri = np.dot(T_rg, T_gi)                    # Robô->item\n",
    "        T_robos[nome] = T_ri\n",
    "\n",
    "    plt.figure(figsize=(8,8))\n",
    "    plot_frame(np.eye(3), 'robô', 'r')\n",
    "    cores = ['g', 'b', 'm', 'c', 'y']\n",
    "    if nomes_ordenados is None:\n",
    "        nomes_ordenados = list(T_robos.keys())\n",
    "    for i, nome in enumerate(nomes_ordenados):\n",
    "        T = T_robos[nome]\n",
    "        plot_frame(T, nome, cores[i % len(cores)])\n",
    "        plt.arrow(0, 0, T[0,2], T[1,2], head_width=0.05, head_length=0.1, \n",
    "                  fc=cores[i % len(cores)], ec=cores[i % len(cores)], alpha=0.6, length_includes_head=True)\n",
    "\n",
    "    plt.xlabel('x (robô)')\n",
    "    plt.ylabel('y (robô)')\n",
    "    plt.axis('equal')\n",
    "    plt.grid(True)\n",
    "    plt.title(f'Referenciais no frame do robô\\n(q = [{q[0]:.2f}, {q[1]:.2f}, {np.degrees(q[2]):.1f}°])')\n",
    "    plt.show()"
   ]
  },
  {
   "cell_type": "markdown",
   "id": "1ab459e4-52ad-4ed2-8db3-7a6515ac4546",
   "metadata": {},
   "source": [
    "## plotar novamente"
   ]
  },
  {
   "cell_type": "code",
   "execution_count": null,
   "id": "63e8c6e8-5d0d-46d0-941b-a46da090b6fa",
   "metadata": {},
   "outputs": [],
   "source": [
    "nomes_ordenados = ['móvel 1', 'móvel 2', 'móvel 3', 'pessoa 1', 'pessoa 2']\n",
    "\n",
    "for q in poses_robo:\n",
    "    plot_cena_para_pose_robo(q, poses_global, nomes_ordenados)"
   ]
  },
  {
   "cell_type": "markdown",
   "id": "985f2a20-af94-4f06-927e-eb26d5e98bac",
   "metadata": {},
   "source": [
    "### Encerrar a simluacao no final (nao rodar tudo pra nao rodar essa parte)\n",
    "\n"
   ]
  },
  {
   "cell_type": "code",
   "execution_count": null,
   "id": "1807d22d-a041-450d-8956-fba02056fc5e",
   "metadata": {},
   "outputs": [],
   "source": [
    "sim.stopSimulation()"
   ]
  },
  {
   "cell_type": "code",
   "execution_count": null,
   "id": "1ea63a3f-b015-44a8-88a0-184475b3b616",
   "metadata": {},
   "outputs": [],
   "source": []
  },
  {
   "cell_type": "code",
   "execution_count": null,
   "id": "e58a0d28-f49b-401a-a4f2-ff25e68ed015",
   "metadata": {},
   "outputs": [],
   "source": []
  }
 ],
 "metadata": {
  "kernelspec": {
   "display_name": "Python 3",
   "language": "python",
   "name": "python3"
  },
  "language_info": {
   "codemirror_mode": {
    "name": "ipython",
    "version": 3
   },
   "file_extension": ".py",
   "mimetype": "text/x-python",
   "name": "python",
   "nbconvert_exporter": "python",
   "pygments_lexer": "ipython3",
   "version": "3.12.10"
  }
 },
 "nbformat": 4,
 "nbformat_minor": 5
}
