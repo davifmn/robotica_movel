{
 "cells": [
  {
   "cell_type": "markdown",
   "id": "54e8fc76-43dd-4395-b43e-ba47bcb27c59",
   "metadata": {},
   "source": [
    "# Cena com Robô Pioneer 3DX, Móveis e Pessoas: Sistemas de Coordenadas\n",
    "\n",
    "Este notebook cria uma cena simulada com um robô móvel Pioneer 3DX, três móveis e duas pessoas. Também define sistemas de coordenadas para cada item e mostra algumas transformações entre eles.\n",
    "\n",
    "\n",
    "\n"
   ]
  },
  {
   "cell_type": "code",
   "execution_count": null,
   "id": "f4c0f09d-d306-4298-85b8-341a2b549fd4",
   "metadata": {},
   "outputs": [],
   "source": [
    "import sys\n",
    "sys.path.append('./')  # Garante acesso aos módulos locais\n",
    "import sim  # API remota CoppeliaSim\n",
    "import numpy as np\n",
    "\n",
    "def check_return_code(rc):\n",
    "    assert rc == sim.simx_return_ok, f'Erro na chamada da API: {rc}'\n",
    "\n",
    "# Conectar ao simulador\n",
    "sim.simxFinish(-1)\n",
    "client_id = sim.simxStart('127.0.0.1', 19997, True, True, 5000, 5)\n",
    "assert client_id != -1, 'Não foi possível conectar ao simulador!'\n",
    "sim.simxStartSimulation(client_id, sim.simx_opmode_blocking)"
   ]
  },
  {
   "cell_type": "code",
   "execution_count": null,
   "id": "322fc51e-dad6-40e9-ba4b-8187778f8b9e",
   "metadata": {},
   "outputs": [],
   "source": [
    "# Função utilitária para obter handle de um objeto\n",
    "def get_handle(name):\n",
    "    rc, handle = sim.simxGetObjectHandle(client_id, name, sim.simx_opmode_blocking)\n",
    "    check_return_code(rc)\n",
    "    return handle\n",
    "\n",
    "# Handles dos objetos (ajuste os nomes conforme sua cena)\n",
    "pioneer = get_handle('Pioneer_p3dx')\n",
    "movel1 = get_handle('Cuboid')\n",
    "movel2 = get_handle('Cuboid#0')\n",
    "movel3 = get_handle('Cuboid#1')\n",
    "pessoa1 = get_handle('Bill')\n",
    "pessoa2 = get_handle('Bill#0')"
   ]
  },
  {
   "cell_type": "code",
   "execution_count": null,
   "id": "43c1b67d-012c-4a6c-851f-58bccd15eea1",
   "metadata": {},
   "outputs": [],
   "source": [
    "# Criação de um dummy para cada frame\n",
    "def criar_dummy(nome, cor=[1,0,0]):\n",
    "    rc, dummy = sim.simxCreateDummy(client_id, 0.05, None, sim.simx_opmode_blocking)\n",
    "    check_return_code(rc)\n",
    "    sim.simxSetObjectIntParameter(client_id, dummy, sim.sim_shapeintparam_respondable, 0, sim.simx_opmode_blocking)\n",
    "    sim.simxSetObjectIntParameter(client_id, dummy, sim.sim_shapeintparam_static, 1, sim.simx_opmode_blocking)\n",
    "    sim.simxSetObjectName(client_id, dummy, nome, sim.simx_opmode_blocking)\n",
    "    sim.simxSetShapeColor(client_id, dummy, None, sim.sim_colorcomponent_ambient_diffuse, cor, sim.simx_opmode_blocking)\n",
    "    return dummy\n",
    "\n",
    "# Associando dummies aos objetos\n",
    "frames = {}\n",
    "for (name, handle, cor) in [\n",
    "    ('frame_pioneer', pioneer, [1,0,0]),\n",
    "    ('frame_movel1', movel1, [0,1,0]),\n",
    "    ('frame_movel2', movel2, [0,0,1]),\n",
    "    ('frame_movel3', movel3, [1,1,0]),\n",
    "    ('frame_pessoa1', pessoa1, [1,0,1]),\n",
    "    ('frame_pessoa2', pessoa2, [0,1,1]),\n",
    "]:\n",
    "    dummy = criar_dummy(name, cor)\n",
    "    sim.simxSetObjectParent(client_id, dummy, handle, True, sim.simx_opmode_blocking)\n",
    "    frames[name] = dummy"
   ]
  },
  {
   "cell_type": "code",
   "execution_count": null,
   "id": "9b3e5c9c-77d2-4561-863d-8aa30a79246b",
   "metadata": {},
   "outputs": [],
   "source": [
    "# Função para obter posição e orientação absoluta de um frame\n",
    "def get_pose(handle):\n",
    "    rc, pos = sim.simxGetObjectPosition(client_id, handle, -1, sim.simx_opmode_blocking)\n",
    "    check_return_code(rc)\n",
    "    rc, euler = sim.simxGetObjectOrientation(client_id, handle, -1, sim.simx_opmode_blocking)\n",
    "    check_return_code(rc)\n",
    "    return np.array(pos), np.array(euler)\n",
    "\n",
    "for name, dummy in frames.items():\n",
    "    pos, euler = get_pose(dummy)\n",
    "    print(f'{name}: posição = {pos}, orientação (Euler) = {euler}')"
   ]
  },
  {
   "cell_type": "code",
   "execution_count": null,
   "id": "2ab69fd8-08fd-4129-915a-60e7dce0d2c0",
   "metadata": {},
   "outputs": [],
   "source": [
    "# Exemplo: transformação homogênea do frame do Pioneer para o frame do móvel 1\n",
    "def get_transform(parent, child):\n",
    "    rc, matrix = sim.simxGetObjectMatrix(client_id, child, parent, sim.simx_opmode_blocking)\n",
    "    check_return_code(rc)\n",
    "    matrix = np.array(matrix).reshape((3,4))\n",
    "    homog = np.vstack([matrix, [0,0,0,1]])\n",
    "    return homog\n",
    "\n",
    "T_pioneer_movel1 = get_transform(frames['frame_pioneer'], frames['frame_movel1'])\n",
    "print('Transformação homogênea Pioneer->Movel1:')\n",
    "print(T_pioneer_movel1)"
   ]
  },
  {
   "cell_type": "markdown",
   "id": "985f2a20-af94-4f06-927e-eb26d5e98bac",
   "metadata": {},
   "source": [
    "### Encerrar a simluacao no final (nao rodar tudo pra nao rodar essa parte)\n",
    "\n"
   ]
  },
  {
   "cell_type": "code",
   "execution_count": null,
   "id": "1807d22d-a041-450d-8956-fba02056fc5e",
   "metadata": {},
   "outputs": [],
   "source": [
    "sim.simxStopSimulation(client_id, sim.simx_opmode_blocking)\n",
    "sim.simxFinish(client_id)"
   ]
  },
  {
   "cell_type": "markdown",
   "id": "ea9c56f8-85c9-4147-a368-4659815b159b",
   "metadata": {},
   "source": [
    "### transformação homogênea"
   ]
  },
  {
   "cell_type": "code",
   "execution_count": null,
   "id": "43e374f7-1f05-46d7-9321-a8ea638832dc",
   "metadata": {},
   "outputs": [],
   "source": [
    "import numpy as np\n",
    "\n",
    "def homog_2d(x, y, theta):\n",
    "    \"\"\"\n",
    "    Retorna matriz homogênea 3x3 para pose 2D.\n",
    "    \"\"\"\n",
    "    c, s = np.cos(theta), np.sin(theta)\n",
    "    return np.array([[c, -s, x],\n",
    "                     [s,  c, y],\n",
    "                     [0,  0, 1]])"
   ]
  },
  {
   "cell_type": "markdown",
   "id": "973ec6f5-5da8-48af-94a7-ed4c0cbb90a5",
   "metadata": {},
   "source": [
    "### pos global dos objetos"
   ]
  },
  {
   "cell_type": "code",
   "execution_count": null,
   "id": "cfba9378-7bbb-48b8-bd75-65730c51c75b",
   "metadata": {},
   "outputs": [],
   "source": [
    "# Suponha que client_id, handles e nomes estejam definidos (veja células anteriores)\n",
    "def get_pose_2d(handle):\n",
    "    rc, pos = sim.simxGetObjectPosition(client_id, handle, -1, sim.simx_opmode_blocking)\n",
    "    check_return_code(rc)\n",
    "    rc, euler = sim.simxGetObjectOrientation(client_id, handle, -1, sim.simx_opmode_blocking)\n",
    "    check_return_code(rc)\n",
    "    # Considera apenas x, y e theta (rotação em z)\n",
    "    return np.array([pos[0], pos[1], euler[2]])\n",
    "\n",
    "poses_global = {}\n",
    "names_handles = {\n",
    "    'robô': pioneer,\n",
    "    'móvel 1': movel1,\n",
    "    'móvel 2': movel2,\n",
    "    'móvel 3': movel3,\n",
    "    'pessoa 1': pessoa1,\n",
    "    'pessoa 2': pessoa2\n",
    "}\n",
    "for nome, handle in names_handles.items():\n",
    "    poses_global[nome] = get_pose_2d(handle)\n",
    "    \n",
    "print(poses_global)"
   ]
  },
  {
   "cell_type": "markdown",
   "id": "2b78025d-9e72-4899-b33a-4c7c0b0f0394",
   "metadata": {},
   "source": [
    "### Matrizes homogêneas de cada elemento no frame do robô"
   ]
  },
  {
   "cell_type": "code",
   "execution_count": null,
   "id": "cb24b2fd-c7d2-442f-bd6f-00eaf89bcfae",
   "metadata": {},
   "outputs": [],
   "source": [
    "# Pose global do robô\n",
    "q = poses_global['robô'] # [x, y, theta]\n",
    "T_gr = homog_2d(q[0], q[1], q[2])    # Global->Robô\n",
    "T_rg = np.linalg.inv(T_gr)           # Robô->Global (inversa)\n",
    "\n",
    "# Para cada elemento, calcule a matriz homogênea no frame do robô\n",
    "T_robos = {}\n",
    "for nome, pose in poses_global.items():\n",
    "    if nome == 'robô':\n",
    "        continue\n",
    "    T_gi = homog_2d(pose[0], pose[1], pose[2])   # Global->item\n",
    "    T_ri = np.dot(T_rg, T_gi)                    # Robô->item = (Robô->Global)^-1 * (Global->item)\n",
    "    T_robos[nome] = T_ri\n",
    "\n",
    "for nome, T in T_robos.items():\n",
    "    print(f'Transformação homogênea {nome} no frame do robô:\\n', T)"
   ]
  },
  {
   "cell_type": "markdown",
   "id": "7cbadea5-4e0a-4e8e-81ac-ec33580af079",
   "metadata": {},
   "source": [
    "## Plotar os referenciais e os vetores entre eles"
   ]
  },
  {
   "cell_type": "code",
   "execution_count": null,
   "id": "64e7e70c-043b-4c51-a4e4-ed7809404be4",
   "metadata": {},
   "outputs": [],
   "source": [
    "import matplotlib.pyplot as plt\n",
    "\n",
    "def plot_frame(T, label, color='k'):\n",
    "    \"\"\"\n",
    "    Plota um referencial 2D (apenas x e y) dado por T (3x3 homogênea).\n",
    "    \"\"\"\n",
    "    origin = T[:2, 2]\n",
    "    x_axis = origin + T[:2, 0]*0.2\n",
    "    y_axis = origin + T[:2, 1]*0.2\n",
    "    plt.plot([origin[0], x_axis[0]], [origin[1], x_axis[1]], color+'-', lw=2)\n",
    "    plt.plot([origin[0], y_axis[0]], [origin[1], y_axis[1]], color+'--', lw=2)\n",
    "    plt.text(origin[0], origin[1], label)\n",
    "\n",
    "# Plote o frame do robô na origem\n",
    "plt.figure(figsize=(8,8))\n",
    "plot_frame(np.eye(3), 'robô', 'r')\n",
    "\n",
    "cores = ['g', 'b', 'm', 'c', 'y']\n",
    "for i, (nome, T) in enumerate(T_robos.items()):\n",
    "    plot_frame(T, nome, cores[i % len(cores)])\n",
    "    # Desenhe um vetor do robô para o objeto\n",
    "    plt.arrow(0, 0, T[0,2], T[1,2], head_width=0.05, head_length=0.1, fc=cores[i % len(cores)], ec=cores[i % len(cores)], alpha=0.5)\n",
    "\n",
    "plt.xlabel('x (robô)')\n",
    "plt.ylabel('y (robô)')\n",
    "plt.axis('equal')\n",
    "plt.grid()\n",
    "plt.title('Referenciais dos objetos no frame do robô')\n",
    "plt.show()\n"
   ]
  },
  {
   "cell_type": "markdown",
   "id": "a152c183-582e-4c44-aa51-61c73afcae8b",
   "metadata": {},
   "source": [
    "### exercicio 4: colocar o robo em pos diferentes"
   ]
  },
  {
   "cell_type": "code",
   "execution_count": 1,
   "id": "22c498c6-ae49-490f-a2d7-af4bacf55f5d",
   "metadata": {},
   "outputs": [
    {
     "ename": "NameError",
     "evalue": "name 'np' is not defined",
     "output_type": "error",
     "traceback": [
      "\u001b[31m---------------------------------------------------------------------------\u001b[39m",
      "\u001b[31mNameError\u001b[39m                                 Traceback (most recent call last)",
      "\u001b[36mCell\u001b[39m\u001b[36m \u001b[39m\u001b[32mIn[1]\u001b[39m\u001b[32m, line 4\u001b[39m\n\u001b[32m      1\u001b[39m \u001b[38;5;66;03m# Lista de poses do robô: [x, y, theta]\u001b[39;00m\n\u001b[32m      2\u001b[39m poses_robo = [\n\u001b[32m      3\u001b[39m     [\u001b[32m0.0\u001b[39m, \u001b[32m0.0\u001b[39m, \u001b[32m0.0\u001b[39m],          \u001b[38;5;66;03m# Posição original (de frente)\u001b[39;00m\n\u001b[32m----> \u001b[39m\u001b[32m4\u001b[39m     [\u001b[32m1.0\u001b[39m, \u001b[32m0.0\u001b[39m, \u001b[43mnp\u001b[49m.pi/\u001b[32m2\u001b[39m],      \u001b[38;5;66;03m# À direita, olhando para cima\u001b[39;00m\n\u001b[32m      5\u001b[39m     [\u001b[32m0.0\u001b[39m, -\u001b[32m1.0\u001b[39m, np.pi],       \u001b[38;5;66;03m# Abaixo, olhando para trás\u001b[39;00m\n\u001b[32m      6\u001b[39m     [-\u001b[32m1.0\u001b[39m, \u001b[32m1.0\u001b[39m, -np.pi/\u001b[32m2\u001b[39m]     \u001b[38;5;66;03m# Esquerda cima, olhando para baixo\u001b[39;00m\n\u001b[32m      7\u001b[39m ]\n",
      "\u001b[31mNameError\u001b[39m: name 'np' is not defined"
     ]
    }
   ],
   "source": [
    "# Lista de poses do robô: [x, y, theta]\n",
    "poses_robo = [\n",
    "    [0.0, 0.0, 0.0],          # Posição original (de frente)\n",
    "    [1.0, 0.0, np.pi/2],      # À direita, olhando para cima\n",
    "    [0.0, -1.0, np.pi],       # Abaixo, olhando para trás\n",
    "    [-1.0, 1.0, -np.pi/2]     # Esquerda cima, olhando para baixo\n",
    "]"
   ]
  },
  {
   "cell_type": "markdown",
   "id": "84cee2de-82cf-4199-a005-4340f23de5f9",
   "metadata": {},
   "source": [
    "### Função para recalcular e plotar para cada pose"
   ]
  },
  {
   "cell_type": "code",
   "execution_count": null,
   "id": "eaf6836c-ed29-4e4c-bc82-bd56e344e3f5",
   "metadata": {},
   "outputs": [],
   "source": [
    "def plot_cena_para_pose_robo(q, poses_global, nomes_ordenados=None):\n",
    "    \"\"\"\n",
    "    q: [x, y, theta] do robô (no global)\n",
    "    poses_global: dict nome->[x, y, theta] dos objetos (no global)\n",
    "    nomes_ordenados: lista de nomes para ordem de cores\n",
    "    \"\"\"\n",
    "    T_gr = homog_2d(q[0], q[1], q[2])  # Global->Robô\n",
    "    T_rg = np.linalg.inv(T_gr)         # Robô->Global (inversa)\n",
    "    T_robos = {}\n",
    "    for nome, pose in poses_global.items():\n",
    "        if nome == 'robô':\n",
    "            continue\n",
    "        T_gi = homog_2d(pose[0], pose[1], pose[2])   # Global->item\n",
    "        T_ri = np.dot(T_rg, T_gi)                    # Robô->item\n",
    "        T_robos[nome] = T_ri\n",
    "\n",
    "    # Plot\n",
    "    plt.figure(figsize=(8,8))\n",
    "    plot_frame(np.eye(3), 'robô', 'r')\n",
    "    cores = ['g', 'b', 'm', 'c', 'y']\n",
    "    if nomes_ordenados is None:\n",
    "        nomes_ordenados = list(T_robos.keys())\n",
    "    for i, nome in enumerate(nomes_ordenados):\n",
    "        T = T_robos[nome]\n",
    "        plot_frame(T, nome, cores[i % len(cores)])\n",
    "        plt.arrow(0, 0, T[0,2], T[1,2], head_width=0.05, head_length=0.1, \n",
    "                  fc=cores[i % len(cores)], ec=cores[i % len(cores)], alpha=0.6, length_includes_head=True)\n",
    "\n",
    "    plt.xlabel('x (robô)')\n",
    "    plt.ylabel('y (robô)')\n",
    "    plt.axis('equal')\n",
    "    plt.grid(True)\n",
    "    plt.title(f'Referenciais no frame do robô\\n(q = [{q[0]:.2f}, {q[1]:.2f}, {np.degrees(q[2]):.1f}°])')\n",
    "    plt.show()"
   ]
  },
  {
   "cell_type": "markdown",
   "id": "1ab459e4-52ad-4ed2-8db3-7a6515ac4546",
   "metadata": {},
   "source": [
    "## plotar novamente"
   ]
  },
  {
   "cell_type": "code",
   "execution_count": null,
   "id": "63e8c6e8-5d0d-46d0-941b-a46da090b6fa",
   "metadata": {},
   "outputs": [],
   "source": [
    "# (Opcional) Defina a ordem dos nomes (para as cores ficarem consistentes)\n",
    "nomes_ordenados = ['móvel 1', 'móvel 2', 'móvel 3', 'pessoa 1', 'pessoa 2']\n",
    "\n",
    "for q in poses_robo:\n",
    "    plot_cena_para_pose_robo(q, poses_global, nomes_ordenados)"
   ]
  }
 ],
 "metadata": {
  "kernelspec": {
   "display_name": "Python 3 (ipykernel)",
   "language": "python",
   "name": "python3"
  },
  "language_info": {
   "codemirror_mode": {
    "name": "ipython",
    "version": 3
   },
   "file_extension": ".py",
   "mimetype": "text/x-python",
   "name": "python",
   "nbconvert_exporter": "python",
   "pygments_lexer": "ipython3",
   "version": "3.12.11"
  }
 },
 "nbformat": 4,
 "nbformat_minor": 5
}
